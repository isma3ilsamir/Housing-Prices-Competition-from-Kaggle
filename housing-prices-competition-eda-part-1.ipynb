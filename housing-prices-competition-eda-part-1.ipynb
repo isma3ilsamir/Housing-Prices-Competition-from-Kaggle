{
 "cells": [
  {
   "cell_type": "markdown",
   "id": "04250261",
   "metadata": {
    "papermill": {
     "duration": 0.04232,
     "end_time": "2021-11-26T14:18:56.782849",
     "exception": false,
     "start_time": "2021-11-26T14:18:56.740529",
     "status": "completed"
    },
    "tags": []
   },
   "source": [
    "This notebook is inpired by [Detailed EDA by Erik Bruin](https://www.kaggle.com/erikbruin/house-prices-lasso-xgboost-and-a-detailed-eda/report#loading-and-exploring-data)\n"
   ]
  },
  {
   "cell_type": "code",
   "execution_count": 1,
   "id": "4407b4d8",
   "metadata": {
    "execution": {
     "iopub.execute_input": "2021-11-26T14:18:56.852995Z",
     "iopub.status.busy": "2021-11-26T14:18:56.852372Z",
     "iopub.status.idle": "2021-11-26T14:18:57.992210Z",
     "shell.execute_reply": "2021-11-26T14:18:57.992950Z",
     "shell.execute_reply.started": "2021-11-26T14:11:28.444985Z"
    },
    "papermill": {
     "duration": 1.180622,
     "end_time": "2021-11-26T14:18:57.993358",
     "exception": false,
     "start_time": "2021-11-26T14:18:56.812736",
     "status": "completed"
    },
    "tags": []
   },
   "outputs": [
    {
     "name": "stdout",
     "output_type": "stream",
     "text": [
      "/kaggle/input/home-data-for-ml-course/sample_submission.csv\n",
      "/kaggle/input/home-data-for-ml-course/sample_submission.csv.gz\n",
      "/kaggle/input/home-data-for-ml-course/train.csv.gz\n",
      "/kaggle/input/home-data-for-ml-course/data_description.txt\n",
      "/kaggle/input/home-data-for-ml-course/test.csv.gz\n",
      "/kaggle/input/home-data-for-ml-course/train.csv\n",
      "/kaggle/input/home-data-for-ml-course/test.csv\n"
     ]
    }
   ],
   "source": [
    "import numpy as np # linear algebra\n",
    "import pandas as pd # data processing, CSV file I/O (e.g. pd.read_csv)\n",
    "import seaborn as sns\n",
    "import matplotlib.pyplot as plt\n",
    "from scipy.stats import norm, skew\n",
    "from scipy import stats\n",
    "from sklearn.preprocessing import OneHotEncoder, OrdinalEncoder\n",
    "\n",
    "# Input data files are available in the read-only \"../input/\" directory\n",
    "# For example, running this (by clicking run or pressing Shift+Enter) will list all files under the input directory\n",
    "\n",
    "import os\n",
    "for dirname, _, filenames in os.walk('/kaggle/input'):\n",
    "    for filename in filenames:\n",
    "        print(os.path.join(dirname, filename))\n",
    "\n",
    "# You can write up to 20GB to the current directory (/kaggle/working/) that gets preserved as output when you create a version using \"Save & Run All\" \n",
    "# You can also write temporary files to /kaggle/temp/, but they won't be saved outside of the current session"
   ]
  },
  {
   "cell_type": "code",
   "execution_count": 2,
   "id": "5ecfd9b6",
   "metadata": {
    "execution": {
     "iopub.execute_input": "2021-11-26T14:18:58.084741Z",
     "iopub.status.busy": "2021-11-26T14:18:58.083657Z",
     "iopub.status.idle": "2021-11-26T14:18:58.191457Z",
     "shell.execute_reply": "2021-11-26T14:18:58.191949Z",
     "shell.execute_reply.started": "2021-11-26T14:11:29.638603Z"
    },
    "papermill": {
     "duration": 0.155281,
     "end_time": "2021-11-26T14:18:58.192129",
     "exception": false,
     "start_time": "2021-11-26T14:18:58.036848",
     "status": "completed"
    },
    "tags": []
   },
   "outputs": [],
   "source": [
    "# Read training and testing data sets\n",
    "train = pd.read_csv('/kaggle/input/home-data-for-ml-course/train.csv')\n",
    "test = pd.read_csv('/kaggle/input/home-data-for-ml-course/test.csv')\n",
    "all_data = pd.concat([train, test], axis='index')"
   ]
  },
  {
   "cell_type": "code",
   "execution_count": 3,
   "id": "d6cd93a8",
   "metadata": {
    "execution": {
     "iopub.execute_input": "2021-11-26T14:18:58.272464Z",
     "iopub.status.busy": "2021-11-26T14:18:58.271296Z",
     "iopub.status.idle": "2021-11-26T14:18:58.277703Z",
     "shell.execute_reply": "2021-11-26T14:18:58.278569Z",
     "shell.execute_reply.started": "2021-11-26T14:11:29.733062Z"
    },
    "papermill": {
     "duration": 0.051232,
     "end_time": "2021-11-26T14:18:58.278804",
     "exception": false,
     "start_time": "2021-11-26T14:18:58.227572",
     "status": "completed"
    },
    "tags": []
   },
   "outputs": [
    {
     "name": "stdout",
     "output_type": "stream",
     "text": [
      "Training Data Shape:  (1460, 81)\n",
      "Testing Data Shape:  (1459, 80)\n"
     ]
    }
   ],
   "source": [
    "# Shape of data\n",
    "print(\"Training Data Shape: \",train.shape)\n",
    "print(\"Testing Data Shape: \", test.shape)"
   ]
  },
  {
   "cell_type": "code",
   "execution_count": 4,
   "id": "3b026b4e",
   "metadata": {
    "execution": {
     "iopub.execute_input": "2021-11-26T14:18:58.338635Z",
     "iopub.status.busy": "2021-11-26T14:18:58.337641Z",
     "iopub.status.idle": "2021-11-26T14:18:58.371895Z",
     "shell.execute_reply": "2021-11-26T14:18:58.372727Z",
     "shell.execute_reply.started": "2021-11-26T14:11:29.742422Z"
    },
    "papermill": {
     "duration": 0.066357,
     "end_time": "2021-11-26T14:18:58.372964",
     "exception": false,
     "start_time": "2021-11-26T14:18:58.306607",
     "status": "completed"
    },
    "tags": []
   },
   "outputs": [
    {
     "name": "stdout",
     "output_type": "stream",
     "text": [
      "<class 'pandas.core.frame.DataFrame'>\n",
      "RangeIndex: 1460 entries, 0 to 1459\n",
      "Data columns (total 81 columns):\n",
      " #   Column         Non-Null Count  Dtype  \n",
      "---  ------         --------------  -----  \n",
      " 0   Id             1460 non-null   int64  \n",
      " 1   MSSubClass     1460 non-null   int64  \n",
      " 2   MSZoning       1460 non-null   object \n",
      " 3   LotFrontage    1201 non-null   float64\n",
      " 4   LotArea        1460 non-null   int64  \n",
      " 5   Street         1460 non-null   object \n",
      " 6   Alley          91 non-null     object \n",
      " 7   LotShape       1460 non-null   object \n",
      " 8   LandContour    1460 non-null   object \n",
      " 9   Utilities      1460 non-null   object \n",
      " 10  LotConfig      1460 non-null   object \n",
      " 11  LandSlope      1460 non-null   object \n",
      " 12  Neighborhood   1460 non-null   object \n",
      " 13  Condition1     1460 non-null   object \n",
      " 14  Condition2     1460 non-null   object \n",
      " 15  BldgType       1460 non-null   object \n",
      " 16  HouseStyle     1460 non-null   object \n",
      " 17  OverallQual    1460 non-null   int64  \n",
      " 18  OverallCond    1460 non-null   int64  \n",
      " 19  YearBuilt      1460 non-null   int64  \n",
      " 20  YearRemodAdd   1460 non-null   int64  \n",
      " 21  RoofStyle      1460 non-null   object \n",
      " 22  RoofMatl       1460 non-null   object \n",
      " 23  Exterior1st    1460 non-null   object \n",
      " 24  Exterior2nd    1460 non-null   object \n",
      " 25  MasVnrType     1452 non-null   object \n",
      " 26  MasVnrArea     1452 non-null   float64\n",
      " 27  ExterQual      1460 non-null   object \n",
      " 28  ExterCond      1460 non-null   object \n",
      " 29  Foundation     1460 non-null   object \n",
      " 30  BsmtQual       1423 non-null   object \n",
      " 31  BsmtCond       1423 non-null   object \n",
      " 32  BsmtExposure   1422 non-null   object \n",
      " 33  BsmtFinType1   1423 non-null   object \n",
      " 34  BsmtFinSF1     1460 non-null   int64  \n",
      " 35  BsmtFinType2   1422 non-null   object \n",
      " 36  BsmtFinSF2     1460 non-null   int64  \n",
      " 37  BsmtUnfSF      1460 non-null   int64  \n",
      " 38  TotalBsmtSF    1460 non-null   int64  \n",
      " 39  Heating        1460 non-null   object \n",
      " 40  HeatingQC      1460 non-null   object \n",
      " 41  CentralAir     1460 non-null   object \n",
      " 42  Electrical     1459 non-null   object \n",
      " 43  1stFlrSF       1460 non-null   int64  \n",
      " 44  2ndFlrSF       1460 non-null   int64  \n",
      " 45  LowQualFinSF   1460 non-null   int64  \n",
      " 46  GrLivArea      1460 non-null   int64  \n",
      " 47  BsmtFullBath   1460 non-null   int64  \n",
      " 48  BsmtHalfBath   1460 non-null   int64  \n",
      " 49  FullBath       1460 non-null   int64  \n",
      " 50  HalfBath       1460 non-null   int64  \n",
      " 51  BedroomAbvGr   1460 non-null   int64  \n",
      " 52  KitchenAbvGr   1460 non-null   int64  \n",
      " 53  KitchenQual    1460 non-null   object \n",
      " 54  TotRmsAbvGrd   1460 non-null   int64  \n",
      " 55  Functional     1460 non-null   object \n",
      " 56  Fireplaces     1460 non-null   int64  \n",
      " 57  FireplaceQu    770 non-null    object \n",
      " 58  GarageType     1379 non-null   object \n",
      " 59  GarageYrBlt    1379 non-null   float64\n",
      " 60  GarageFinish   1379 non-null   object \n",
      " 61  GarageCars     1460 non-null   int64  \n",
      " 62  GarageArea     1460 non-null   int64  \n",
      " 63  GarageQual     1379 non-null   object \n",
      " 64  GarageCond     1379 non-null   object \n",
      " 65  PavedDrive     1460 non-null   object \n",
      " 66  WoodDeckSF     1460 non-null   int64  \n",
      " 67  OpenPorchSF    1460 non-null   int64  \n",
      " 68  EnclosedPorch  1460 non-null   int64  \n",
      " 69  3SsnPorch      1460 non-null   int64  \n",
      " 70  ScreenPorch    1460 non-null   int64  \n",
      " 71  PoolArea       1460 non-null   int64  \n",
      " 72  PoolQC         7 non-null      object \n",
      " 73  Fence          281 non-null    object \n",
      " 74  MiscFeature    54 non-null     object \n",
      " 75  MiscVal        1460 non-null   int64  \n",
      " 76  MoSold         1460 non-null   int64  \n",
      " 77  YrSold         1460 non-null   int64  \n",
      " 78  SaleType       1460 non-null   object \n",
      " 79  SaleCondition  1460 non-null   object \n",
      " 80  SalePrice      1460 non-null   int64  \n",
      "dtypes: float64(3), int64(35), object(43)\n",
      "memory usage: 924.0+ KB\n"
     ]
    }
   ],
   "source": [
    "# data info\n",
    "train.info()"
   ]
  },
  {
   "cell_type": "code",
   "execution_count": 5,
   "id": "8a8b3435",
   "metadata": {
    "execution": {
     "iopub.execute_input": "2021-11-26T14:18:58.446312Z",
     "iopub.status.busy": "2021-11-26T14:18:58.445337Z",
     "iopub.status.idle": "2021-11-26T14:18:58.454929Z",
     "shell.execute_reply": "2021-11-26T14:18:58.455932Z",
     "shell.execute_reply.started": "2021-11-26T14:11:29.777473Z"
    },
    "papermill": {
     "duration": 0.043322,
     "end_time": "2021-11-26T14:18:58.456162",
     "exception": false,
     "start_time": "2021-11-26T14:18:58.412840",
     "status": "completed"
    },
    "tags": []
   },
   "outputs": [],
   "source": [
    "# Split data into Input variables and Target Variable\n",
    "# remove the Id column from training data (not useful)\n",
    "y_train = train['SalePrice']\n",
    "X_train = train.drop(['SalePrice', 'Id'], axis='columns')\n",
    "\n",
    "# remove Id column from testing data but keep it for submission\n",
    "X_test = test.drop(['Id'], axis='columns')\n",
    "X_test_ids = test['Id']"
   ]
  },
  {
   "cell_type": "code",
   "execution_count": 6,
   "id": "5dcd2d0d",
   "metadata": {
    "execution": {
     "iopub.execute_input": "2021-11-26T14:18:58.519893Z",
     "iopub.status.busy": "2021-11-26T14:18:58.518891Z",
     "iopub.status.idle": "2021-11-26T14:18:58.529267Z",
     "shell.execute_reply": "2021-11-26T14:18:58.529826Z",
     "shell.execute_reply.started": "2021-11-26T14:11:29.787629Z"
    },
    "papermill": {
     "duration": 0.044122,
     "end_time": "2021-11-26T14:18:58.530036",
     "exception": false,
     "start_time": "2021-11-26T14:18:58.485914",
     "status": "completed"
    },
    "tags": []
   },
   "outputs": [
    {
     "data": {
      "text/plain": [
       "count      1460.000000\n",
       "mean     180921.195890\n",
       "std       79442.502883\n",
       "min       34900.000000\n",
       "25%      129975.000000\n",
       "50%      163000.000000\n",
       "75%      214000.000000\n",
       "max      755000.000000\n",
       "Name: SalePrice, dtype: float64"
      ]
     },
     "execution_count": 6,
     "metadata": {},
     "output_type": "execute_result"
    }
   ],
   "source": [
    "# Explore some stats about our target variable SalePrice\n",
    "y_train.describe()"
   ]
  },
  {
   "cell_type": "code",
   "execution_count": 7,
   "id": "c55ce88d",
   "metadata": {
    "execution": {
     "iopub.execute_input": "2021-11-26T14:18:58.598727Z",
     "iopub.status.busy": "2021-11-26T14:18:58.597877Z",
     "iopub.status.idle": "2021-11-26T14:18:59.111516Z",
     "shell.execute_reply": "2021-11-26T14:18:59.110835Z",
     "shell.execute_reply.started": "2021-11-26T14:11:29.810105Z"
    },
    "papermill": {
     "duration": 0.551899,
     "end_time": "2021-11-26T14:18:59.111671",
     "exception": false,
     "start_time": "2021-11-26T14:18:58.559772",
     "status": "completed"
    },
    "tags": []
   },
   "outputs": [
    {
     "data": {
      "text/plain": [
       "<AxesSubplot:xlabel='SalePrice', ylabel='Count'>"
      ]
     },
     "execution_count": 7,
     "metadata": {},
     "output_type": "execute_result"
    },
    {
     "data": {
      "image/png": "[encoded data removed]",
      "text/plain": [
       "<Figure size 432x288 with 1 Axes>"
      ]
     },
     "metadata": {
      "needs_background": "light"
     },
     "output_type": "display_data"
    }
   ],
   "source": [
    "# Explore the distribution of the target variable\n",
    "sns.histplot(data= y_train)"
   ]
  },
  {
   "cell_type": "code",
   "execution_count": 8,
   "id": "a4d292e4",
   "metadata": {
    "execution": {
     "iopub.execute_input": "2021-11-26T14:18:59.175017Z",
     "iopub.status.busy": "2021-11-26T14:18:59.174026Z",
     "iopub.status.idle": "2021-11-26T14:18:59.388640Z",
     "shell.execute_reply": "2021-11-26T14:18:59.389224Z",
     "shell.execute_reply.started": "2021-11-26T14:11:30.271962Z"
    },
    "papermill": {
     "duration": 0.248554,
     "end_time": "2021-11-26T14:18:59.389404",
     "exception": false,
     "start_time": "2021-11-26T14:18:59.140850",
     "status": "completed"
    },
    "tags": []
   },
   "outputs": [
    {
     "data": {
      "image/png": "[encoded data removed]",
      "text/plain": [
       "<Figure size 432x288 with 1 Axes>"
      ]
     },
     "metadata": {
      "needs_background": "light"
     },
     "output_type": "display_data"
    }
   ],
   "source": [
    "# it is apparently not normally distributed, let's see how far it is from normal distribution\n",
    "# using Q–Q (quantile-quantile) plot\n",
    "fig = plt.figure()\n",
    "res = stats.probplot(x = y_train, plot= plt, dist='norm')\n",
    "plt.show()"
   ]
  },
  {
   "cell_type": "code",
   "execution_count": 9,
   "id": "a690c105",
   "metadata": {
    "execution": {
     "iopub.execute_input": "2021-11-26T14:18:59.460262Z",
     "iopub.status.busy": "2021-11-26T14:18:59.459571Z",
     "iopub.status.idle": "2021-11-26T14:18:59.461513Z",
     "shell.execute_reply": "2021-11-26T14:18:59.462062Z",
     "shell.execute_reply.started": "2021-11-26T14:11:30.464583Z"
    },
    "papermill": {
     "duration": 0.04284,
     "end_time": "2021-11-26T14:18:59.462264",
     "exception": false,
     "start_time": "2021-11-26T14:18:59.419424",
     "status": "completed"
    },
    "tags": []
   },
   "outputs": [],
   "source": [
    "# divide columns into categorical and numeric\n",
    "cat_cols = X_train.select_dtypes('object').columns.to_list()\n",
    "num_cols = X_train.select_dtypes('number').columns.to_list()"
   ]
  },
  {
   "cell_type": "code",
   "execution_count": 10,
   "id": "d0b57926",
   "metadata": {
    "execution": {
     "iopub.execute_input": "2021-11-26T14:18:59.532202Z",
     "iopub.status.busy": "2021-11-26T14:18:59.531127Z",
     "iopub.status.idle": "2021-11-26T14:18:59.574761Z",
     "shell.execute_reply": "2021-11-26T14:18:59.573974Z",
     "shell.execute_reply.started": "2021-11-26T14:11:30.474368Z"
    },
    "papermill": {
     "duration": 0.081987,
     "end_time": "2021-11-26T14:18:59.574957",
     "exception": false,
     "start_time": "2021-11-26T14:18:59.492970",
     "status": "completed"
    },
    "tags": []
   },
   "outputs": [
    {
     "name": "stdout",
     "output_type": "stream",
     "text": [
      "There are 36 numeric variables\n",
      "Numeric features with high correlation (>= |0.5|) to target variable:\n",
      "OverallQual     0.790982\n",
      "GrLivArea       0.708624\n",
      "GarageCars      0.640409\n",
      "GarageArea      0.623431\n",
      "TotalBsmtSF     0.613581\n",
      "1stFlrSF        0.605852\n",
      "FullBath        0.560664\n",
      "TotRmsAbvGrd    0.533723\n",
      "YearBuilt       0.522897\n",
      "YearRemodAdd    0.507101\n",
      "dtype: float64\n"
     ]
    },
    {
     "data": {
      "text/html": [
       "<div>\n",
       "<style scoped>\n",
       "    .dataframe tbody tr th:only-of-type {\n",
       "        vertical-align: middle;\n",
       "    }\n",
       "\n",
       "    .dataframe tbody tr th {\n",
       "        vertical-align: top;\n",
       "    }\n",
       "\n",
       "    .dataframe thead th {\n",
       "        text-align: right;\n",
       "    }\n",
       "</style>\n",
       "<table border=\"1\" class=\"dataframe\">\n",
       "  <thead>\n",
       "    <tr style=\"text-align: right;\">\n",
       "      <th></th>\n",
       "      <th>OverallQual</th>\n",
       "      <th>GrLivArea</th>\n",
       "      <th>GarageCars</th>\n",
       "      <th>GarageArea</th>\n",
       "      <th>TotalBsmtSF</th>\n",
       "      <th>1stFlrSF</th>\n",
       "      <th>FullBath</th>\n",
       "      <th>TotRmsAbvGrd</th>\n",
       "      <th>YearBuilt</th>\n",
       "      <th>YearRemodAdd</th>\n",
       "      <th>SalePrice</th>\n",
       "    </tr>\n",
       "  </thead>\n",
       "  <tbody>\n",
       "    <tr>\n",
       "      <th>OverallQual</th>\n",
       "      <td>1.000000</td>\n",
       "      <td>0.593007</td>\n",
       "      <td>0.600671</td>\n",
       "      <td>0.562022</td>\n",
       "      <td>0.537808</td>\n",
       "      <td>0.476224</td>\n",
       "      <td>0.550600</td>\n",
       "      <td>0.427452</td>\n",
       "      <td>0.572323</td>\n",
       "      <td>0.550684</td>\n",
       "      <td>0.790982</td>\n",
       "    </tr>\n",
       "    <tr>\n",
       "      <th>GrLivArea</th>\n",
       "      <td>0.593007</td>\n",
       "      <td>1.000000</td>\n",
       "      <td>0.467247</td>\n",
       "      <td>0.468997</td>\n",
       "      <td>0.454868</td>\n",
       "      <td>0.566024</td>\n",
       "      <td>0.630012</td>\n",
       "      <td>0.825489</td>\n",
       "      <td>0.199010</td>\n",
       "      <td>0.287389</td>\n",
       "      <td>0.708624</td>\n",
       "    </tr>\n",
       "    <tr>\n",
       "      <th>GarageCars</th>\n",
       "      <td>0.600671</td>\n",
       "      <td>0.467247</td>\n",
       "      <td>1.000000</td>\n",
       "      <td>0.882475</td>\n",
       "      <td>0.434585</td>\n",
       "      <td>0.439317</td>\n",
       "      <td>0.469672</td>\n",
       "      <td>0.362289</td>\n",
       "      <td>0.537850</td>\n",
       "      <td>0.420622</td>\n",
       "      <td>0.640409</td>\n",
       "    </tr>\n",
       "    <tr>\n",
       "      <th>GarageArea</th>\n",
       "      <td>0.562022</td>\n",
       "      <td>0.468997</td>\n",
       "      <td>0.882475</td>\n",
       "      <td>1.000000</td>\n",
       "      <td>0.486665</td>\n",
       "      <td>0.489782</td>\n",
       "      <td>0.405656</td>\n",
       "      <td>0.337822</td>\n",
       "      <td>0.478954</td>\n",
       "      <td>0.371600</td>\n",
       "      <td>0.623431</td>\n",
       "    </tr>\n",
       "    <tr>\n",
       "      <th>TotalBsmtSF</th>\n",
       "      <td>0.537808</td>\n",
       "      <td>0.454868</td>\n",
       "      <td>0.434585</td>\n",
       "      <td>0.486665</td>\n",
       "      <td>1.000000</td>\n",
       "      <td>0.819530</td>\n",
       "      <td>0.323722</td>\n",
       "      <td>0.285573</td>\n",
       "      <td>0.391452</td>\n",
       "      <td>0.291066</td>\n",
       "      <td>0.613581</td>\n",
       "    </tr>\n",
       "    <tr>\n",
       "      <th>1stFlrSF</th>\n",
       "      <td>0.476224</td>\n",
       "      <td>0.566024</td>\n",
       "      <td>0.439317</td>\n",
       "      <td>0.489782</td>\n",
       "      <td>0.819530</td>\n",
       "      <td>1.000000</td>\n",
       "      <td>0.380637</td>\n",
       "      <td>0.409516</td>\n",
       "      <td>0.281986</td>\n",
       "      <td>0.240379</td>\n",
       "      <td>0.605852</td>\n",
       "    </tr>\n",
       "    <tr>\n",
       "      <th>FullBath</th>\n",
       "      <td>0.550600</td>\n",
       "      <td>0.630012</td>\n",
       "      <td>0.469672</td>\n",
       "      <td>0.405656</td>\n",
       "      <td>0.323722</td>\n",
       "      <td>0.380637</td>\n",
       "      <td>1.000000</td>\n",
       "      <td>0.554784</td>\n",
       "      <td>0.468271</td>\n",
       "      <td>0.439046</td>\n",
       "      <td>0.560664</td>\n",
       "    </tr>\n",
       "    <tr>\n",
       "      <th>TotRmsAbvGrd</th>\n",
       "      <td>0.427452</td>\n",
       "      <td>0.825489</td>\n",
       "      <td>0.362289</td>\n",
       "      <td>0.337822</td>\n",
       "      <td>0.285573</td>\n",
       "      <td>0.409516</td>\n",
       "      <td>0.554784</td>\n",
       "      <td>1.000000</td>\n",
       "      <td>0.095589</td>\n",
       "      <td>0.191740</td>\n",
       "      <td>0.533723</td>\n",
       "    </tr>\n",
       "    <tr>\n",
       "      <th>YearBuilt</th>\n",
       "      <td>0.572323</td>\n",
       "      <td>0.199010</td>\n",
       "      <td>0.537850</td>\n",
       "      <td>0.478954</td>\n",
       "      <td>0.391452</td>\n",
       "      <td>0.281986</td>\n",
       "      <td>0.468271</td>\n",
       "      <td>0.095589</td>\n",
       "      <td>1.000000</td>\n",
       "      <td>0.592855</td>\n",
       "      <td>0.522897</td>\n",
       "    </tr>\n",
       "    <tr>\n",
       "      <th>YearRemodAdd</th>\n",
       "      <td>0.550684</td>\n",
       "      <td>0.287389</td>\n",
       "      <td>0.420622</td>\n",
       "      <td>0.371600</td>\n",
       "      <td>0.291066</td>\n",
       "      <td>0.240379</td>\n",
       "      <td>0.439046</td>\n",
       "      <td>0.191740</td>\n",
       "      <td>0.592855</td>\n",
       "      <td>1.000000</td>\n",
       "      <td>0.507101</td>\n",
       "    </tr>\n",
       "    <tr>\n",
       "      <th>SalePrice</th>\n",
       "      <td>0.790982</td>\n",
       "      <td>0.708624</td>\n",
       "      <td>0.640409</td>\n",
       "      <td>0.623431</td>\n",
       "      <td>0.613581</td>\n",
       "      <td>0.605852</td>\n",
       "      <td>0.560664</td>\n",
       "      <td>0.533723</td>\n",
       "      <td>0.522897</td>\n",
       "      <td>0.507101</td>\n",
       "      <td>1.000000</td>\n",
       "    </tr>\n",
       "  </tbody>\n",
       "</table>\n",
       "</div>"
      ],
      "text/plain": [
       "              OverallQual  GrLivArea  GarageCars  GarageArea  TotalBsmtSF  \\\n",
       "OverallQual      1.000000   0.593007    0.600671    0.562022     0.537808   \n",
       "GrLivArea        0.593007   1.000000    0.467247    0.468997     0.454868   \n",
       "GarageCars       0.600671   0.467247    1.000000    0.882475     0.434585   \n",
       "GarageArea       0.562022   0.468997    0.882475    1.000000     0.486665   \n",
       "TotalBsmtSF      0.537808   0.454868    0.434585    0.486665     1.000000   \n",
       "1stFlrSF         0.476224   0.566024    0.439317    0.489782     0.819530   \n",
       "FullBath         0.550600   0.630012    0.469672    0.405656     0.323722   \n",
       "TotRmsAbvGrd     0.427452   0.825489    0.362289    0.337822     0.285573   \n",
       "YearBuilt        0.572323   0.199010    0.537850    0.478954     0.391452   \n",
       "YearRemodAdd     0.550684   0.287389    0.420622    0.371600     0.291066   \n",
       "SalePrice        0.790982   0.708624    0.640409    0.623431     0.613581   \n",
       "\n",
       "              1stFlrSF  FullBath  TotRmsAbvGrd  YearBuilt  YearRemodAdd  \\\n",
       "OverallQual   0.476224  0.550600      0.427452   0.572323      0.550684   \n",
       "GrLivArea     0.566024  0.630012      0.825489   0.199010      0.287389   \n",
       "GarageCars    0.439317  0.469672      0.362289   0.537850      0.420622   \n",
       "GarageArea    0.489782  0.405656      0.337822   0.478954      0.371600   \n",
       "TotalBsmtSF   0.819530  0.323722      0.285573   0.391452      0.291066   \n",
       "1stFlrSF      1.000000  0.380637      0.409516   0.281986      0.240379   \n",
       "FullBath      0.380637  1.000000      0.554784   0.468271      0.439046   \n",
       "TotRmsAbvGrd  0.409516  0.554784      1.000000   0.095589      0.191740   \n",
       "YearBuilt     0.281986  0.468271      0.095589   1.000000      0.592855   \n",
       "YearRemodAdd  0.240379  0.439046      0.191740   0.592855      1.000000   \n",
       "SalePrice     0.605852  0.560664      0.533723   0.522897      0.507101   \n",
       "\n",
       "              SalePrice  \n",
       "OverallQual    0.790982  \n",
       "GrLivArea      0.708624  \n",
       "GarageCars     0.640409  \n",
       "GarageArea     0.623431  \n",
       "TotalBsmtSF    0.613581  \n",
       "1stFlrSF       0.605852  \n",
       "FullBath       0.560664  \n",
       "TotRmsAbvGrd   0.533723  \n",
       "YearBuilt      0.522897  \n",
       "YearRemodAdd   0.507101  \n",
       "SalePrice      1.000000  "
      ]
     },
     "execution_count": 10,
     "metadata": {},
     "output_type": "execute_result"
    }
   ],
   "source": [
    "# Check Numeric Variables First\n",
    "print(f'There are {len(num_cols)} numeric variables') # excluding the Id column\n",
    "\n",
    "# Let's see how they correlate with the target variable\n",
    "num_corr_target = X_train[num_cols].corrwith(y_train, axis='index').sort_values(ascending=False)\n",
    "\n",
    "# Let's see how many highly correlate (has correlation coefficient >= |0.5|)\n",
    "print(f'Numeric features with high correlation (>= |0.5|) to target variable:')\n",
    "high_num_corr_target = num_corr_target[num_corr_target >= abs(0.5)]\n",
    "print(high_num_corr_target)\n",
    "\n",
    "high_num_corr_target_matrix = train[high_num_corr_target.index.to_list() + ['SalePrice']].corr()\n",
    "high_num_corr_target_matrix"
   ]
  },
  {
   "cell_type": "code",
   "execution_count": 11,
   "id": "428eaa61",
   "metadata": {
    "execution": {
     "iopub.execute_input": "2021-11-26T14:18:59.644131Z",
     "iopub.status.busy": "2021-11-26T14:18:59.643508Z",
     "iopub.status.idle": "2021-11-26T14:19:00.516108Z",
     "shell.execute_reply": "2021-11-26T14:19:00.516640Z",
     "shell.execute_reply.started": "2021-11-26T14:11:30.533340Z"
    },
    "papermill": {
     "duration": 0.908486,
     "end_time": "2021-11-26T14:19:00.516823",
     "exception": false,
     "start_time": "2021-11-26T14:18:59.608337",
     "status": "completed"
    },
    "tags": []
   },
   "outputs": [
    {
     "data": {
      "image/png": "[encoded data removed]",
      "text/plain": [
       "<Figure size 792x648 with 2 Axes>"
      ]
     },
     "metadata": {
      "needs_background": "light"
     },
     "output_type": "display_data"
    }
   ],
   "source": [
    "# Visualize the correlation matrix using heatmap\n",
    "fig, ax = plt.subplots(figsize=(11, 9))\n",
    "sns.heatmap(high_num_corr_target_matrix, annot= True)\n",
    "plt.show()\n",
    "\n",
    "# Observations:\n",
    "# OverallQual, GrLivArea, GarageCars are the top 3 correlated features\n",
    "# There is multicollinearity in the data. For example GarageCars and GarageArea are highly correlated (0.88)\n",
    "# and both of them are highly correlated with the SalePrice.\n",
    "# If you think about it, the space of garage and number of cars that can fit are closely related to each other."
   ]
  },
  {
   "cell_type": "code",
   "execution_count": 12,
   "id": "0deda0e3",
   "metadata": {
    "execution": {
     "iopub.execute_input": "2021-11-26T14:19:00.616199Z",
     "iopub.status.busy": "2021-11-26T14:19:00.590057Z",
     "iopub.status.idle": "2021-11-26T14:19:00.960481Z",
     "shell.execute_reply": "2021-11-26T14:19:00.960975Z",
     "shell.execute_reply.started": "2021-11-26T14:11:31.326897Z"
    },
    "papermill": {
     "duration": 0.409983,
     "end_time": "2021-11-26T14:19:00.961185",
     "exception": false,
     "start_time": "2021-11-26T14:19:00.551202",
     "status": "completed"
    },
    "tags": []
   },
   "outputs": [
    {
     "data": {
      "image/png": "[encoded data removed]",
      "text/plain": [
       "<Figure size 792x648 with 1 Axes>"
      ]
     },
     "metadata": {
      "needs_background": "light"
     },
     "output_type": "display_data"
    }
   ],
   "source": [
    "# Having a closer look on the most correlated feature (OverallQual)\n",
    "fig, ax = plt.subplots(figsize=(11, 9))\n",
    "sns.boxplot(x=\"OverallQual\", y=\"SalePrice\", data=train)\n",
    "plt.show()\n",
    "\n",
    "# The positive correlation is obvious with a slightly upward curve.\n",
    "# Which indicates that as the overall quality of the house increases the price increases\n",
    "# Except for 2 candidate outliers (in my opinion), there are no extreme cases.\n",
    "# 1st candidate: expensive house in level 4\n",
    "# 2nd candidate: expensive house in level 8"
   ]
  },
  {
   "cell_type": "code",
   "execution_count": 13,
   "id": "7d2b2506",
   "metadata": {
    "execution": {
     "iopub.execute_input": "2021-11-26T14:19:01.037393Z",
     "iopub.status.busy": "2021-11-26T14:19:01.036658Z",
     "iopub.status.idle": "2021-11-26T14:19:01.309479Z",
     "shell.execute_reply": "2021-11-26T14:19:01.308801Z",
     "shell.execute_reply.started": "2021-11-26T14:11:31.657792Z"
    },
    "papermill": {
     "duration": 0.31164,
     "end_time": "2021-11-26T14:19:01.309623",
     "exception": false,
     "start_time": "2021-11-26T14:19:00.997983",
     "status": "completed"
    },
    "tags": []
   },
   "outputs": [
    {
     "data": {
      "image/png": "[encoded data removed]",
      "text/plain": [
       "<Figure size 792x648 with 1 Axes>"
      ]
     },
     "metadata": {
      "needs_background": "light"
     },
     "output_type": "display_data"
    },
    {
     "data": {
      "text/plain": [
       "1298    5642\n",
       "523     4676\n",
       "Name: GrLivArea, dtype: int64"
      ]
     },
     "execution_count": 13,
     "metadata": {},
     "output_type": "execute_result"
    }
   ],
   "source": [
    "# Having a closer look on the second most correlated feature (GrLivArea)\n",
    "fig, ax = plt.subplots(figsize=(11, 9))\n",
    "# sns.scatterplot(x=\"GrLivArea\", y=\"SalePrice\", data=train)\n",
    "sns.regplot(x=\"GrLivArea\", y=\"SalePrice\", data=train, ci=None, line_kws={\"color\":\"black\"})\n",
    "plt.show()\n",
    "\n",
    "# The positive linear relation is quite obvious here as well\n",
    "# Which indicates that as the (above ground) living area increases the price increases as well\n",
    "# There are 2 outliers (Id:1289 & 523) with huge living areas but very low prices (<200,000)\n",
    "X_train['GrLivArea'].sort_values(ascending=False).head(2)"
   ]
  },
  {
   "cell_type": "code",
   "execution_count": 14,
   "id": "51441c81",
   "metadata": {
    "execution": {
     "iopub.execute_input": "2021-11-26T14:19:01.403521Z",
     "iopub.status.busy": "2021-11-26T14:19:01.390576Z",
     "iopub.status.idle": "2021-11-26T14:19:01.419204Z",
     "shell.execute_reply": "2021-11-26T14:19:01.418659Z",
     "shell.execute_reply.started": "2021-11-26T14:11:31.862015Z"
    },
    "papermill": {
     "duration": 0.071767,
     "end_time": "2021-11-26T14:19:01.419345",
     "exception": false,
     "start_time": "2021-11-26T14:19:01.347578",
     "status": "completed"
    },
    "tags": []
   },
   "outputs": [
    {
     "data": {
      "text/plain": [
       "PoolQC          2909\n",
       "MiscFeature     2814\n",
       "Alley           2721\n",
       "Fence           2348\n",
       "SalePrice       1459\n",
       "FireplaceQu     1420\n",
       "LotFrontage      486\n",
       "GarageCond       159\n",
       "GarageYrBlt      159\n",
       "GarageFinish     159\n",
       "GarageQual       159\n",
       "GarageType       157\n",
       "BsmtExposure      82\n",
       "BsmtCond          82\n",
       "BsmtQual          81\n",
       "BsmtFinType2      80\n",
       "BsmtFinType1      79\n",
       "MasVnrType        24\n",
       "MasVnrArea        23\n",
       "MSZoning           4\n",
       "Functional         2\n",
       "BsmtHalfBath       2\n",
       "BsmtFullBath       2\n",
       "Utilities          2\n",
       "KitchenQual        1\n",
       "TotalBsmtSF        1\n",
       "BsmtUnfSF          1\n",
       "GarageCars         1\n",
       "GarageArea         1\n",
       "BsmtFinSF2         1\n",
       "BsmtFinSF1         1\n",
       "Exterior2nd        1\n",
       "Exterior1st        1\n",
       "SaleType           1\n",
       "Electrical         1\n",
       "dtype: int64"
      ]
     },
     "execution_count": 14,
     "metadata": {},
     "output_type": "execute_result"
    }
   ],
   "source": [
    "# Check completeness of data\n",
    "col_has_null = all_data.isna().sum()\n",
    "col_w_null = col_has_null[col_has_null > 0].index.to_list()\n",
    "col_has_null[col_has_null > 0].sort_values(ascending = False)"
   ]
  },
  {
   "cell_type": "code",
   "execution_count": 15,
   "id": "5766fb2c",
   "metadata": {
    "execution": {
     "iopub.execute_input": "2021-11-26T14:19:01.502442Z",
     "iopub.status.busy": "2021-11-26T14:19:01.501701Z",
     "iopub.status.idle": "2021-11-26T14:19:01.510645Z",
     "shell.execute_reply": "2021-11-26T14:19:01.510053Z",
     "shell.execute_reply.started": "2021-11-26T14:11:31.884817Z"
    },
    "papermill": {
     "duration": 0.052285,
     "end_time": "2021-11-26T14:19:01.510788",
     "exception": false,
     "start_time": "2021-11-26T14:19:01.458503",
     "status": "completed"
    },
    "tags": []
   },
   "outputs": [],
   "source": [
    "# Primary strategies for filling missing data (will see as we go if we need other strategies)\n",
    "# For numerical features: assign 0\n",
    "# For categorical features: assign None\n",
    "\n",
    "# I make a copy so that I can compare before and after\n",
    "all_data_original = all_data.copy()\n",
    "\n",
    "# I will make a list of ordinal and categorical features that will need encoding\n",
    "ordinal_features = []\n",
    "nominal_features = []"
   ]
  },
  {
   "cell_type": "code",
   "execution_count": 16,
   "id": "f15eb5aa",
   "metadata": {
    "execution": {
     "iopub.execute_input": "2021-11-26T14:19:01.593959Z",
     "iopub.status.busy": "2021-11-26T14:19:01.593326Z",
     "iopub.status.idle": "2021-11-26T14:19:01.597656Z",
     "shell.execute_reply": "2021-11-26T14:19:01.598243Z",
     "shell.execute_reply.started": "2021-11-26T14:11:31.897967Z"
    },
    "papermill": {
     "duration": 0.05013,
     "end_time": "2021-11-26T14:19:01.598411",
     "exception": false,
     "start_time": "2021-11-26T14:19:01.548281",
     "status": "completed"
    },
    "tags": []
   },
   "outputs": [],
   "source": [
    "# From the description of features, we find that there are multiple columns that use the same quality measures\n",
    "# So we will encode them to an ordinal variable, so we can apply it to the different columns\n",
    "quality_ordinal_encoder = OrdinalEncoder(categories=\n",
    "                                         [['None', 'Po', 'Fa', 'TA', 'Gd', 'Ex'],\n",
    "                                         ['Reg' 'IR1' 'IR2' 'IR3']])"
   ]
  },
  {
   "cell_type": "code",
   "execution_count": 17,
   "id": "a82e01fc",
   "metadata": {
    "execution": {
     "iopub.execute_input": "2021-11-26T14:19:01.683514Z",
     "iopub.status.busy": "2021-11-26T14:19:01.682833Z",
     "iopub.status.idle": "2021-11-26T14:19:01.691958Z",
     "shell.execute_reply": "2021-11-26T14:19:01.691337Z",
     "shell.execute_reply.started": "2021-11-26T14:11:31.906582Z"
    },
    "papermill": {
     "duration": 0.055586,
     "end_time": "2021-11-26T14:19:01.692091",
     "exception": false,
     "start_time": "2021-11-26T14:19:01.636505",
     "status": "completed"
    },
    "tags": []
   },
   "outputs": [
    {
     "name": "stdout",
     "output_type": "stream",
     "text": [
      "PoolQC after filling missing values\n",
      "PoolQC\n",
      "None      2909\n",
      "Ex           4\n",
      "Gd           4\n",
      "Fa           2\n",
      "dtype: int64\n"
     ]
    }
   ],
   "source": [
    "# Pool Data : Quality and Area\n",
    "# From the data description we know that Quality is categorical where NA means no pool\n",
    "# So we can assign value None instead\n",
    "all_data['PoolQC'] = all_data['PoolQC'].fillna('None')\n",
    "print(\"PoolQC after filling missing values\")\n",
    "print(all_data[['PoolQC']].value_counts())"
   ]
  },
  {
   "cell_type": "code",
   "execution_count": 18,
   "id": "44ed0ffe",
   "metadata": {
    "execution": {
     "iopub.execute_input": "2021-11-26T14:19:01.775840Z",
     "iopub.status.busy": "2021-11-26T14:19:01.774827Z",
     "iopub.status.idle": "2021-11-26T14:19:01.783020Z",
     "shell.execute_reply": "2021-11-26T14:19:01.783640Z",
     "shell.execute_reply.started": "2021-11-26T14:11:31.929487Z"
    },
    "papermill": {
     "duration": 0.053883,
     "end_time": "2021-11-26T14:19:01.783820",
     "exception": false,
     "start_time": "2021-11-26T14:19:01.729937",
     "status": "completed"
    },
    "tags": []
   },
   "outputs": [
    {
     "data": {
      "text/html": [
       "<div>\n",
       "<style scoped>\n",
       "    .dataframe tbody tr th:only-of-type {\n",
       "        vertical-align: middle;\n",
       "    }\n",
       "\n",
       "    .dataframe tbody tr th {\n",
       "        vertical-align: top;\n",
       "    }\n",
       "\n",
       "    .dataframe thead th {\n",
       "        text-align: right;\n",
       "    }\n",
       "</style>\n",
       "<table border=\"1\" class=\"dataframe\">\n",
       "  <thead>\n",
       "    <tr style=\"text-align: right;\">\n",
       "      <th></th>\n",
       "      <th>Id</th>\n",
       "      <th>PoolArea</th>\n",
       "      <th>PoolQC</th>\n",
       "    </tr>\n",
       "  </thead>\n",
       "  <tbody>\n",
       "    <tr>\n",
       "      <th>960</th>\n",
       "      <td>2421</td>\n",
       "      <td>368</td>\n",
       "      <td>None</td>\n",
       "    </tr>\n",
       "    <tr>\n",
       "      <th>1043</th>\n",
       "      <td>2504</td>\n",
       "      <td>444</td>\n",
       "      <td>None</td>\n",
       "    </tr>\n",
       "    <tr>\n",
       "      <th>1139</th>\n",
       "      <td>2600</td>\n",
       "      <td>561</td>\n",
       "      <td>None</td>\n",
       "    </tr>\n",
       "  </tbody>\n",
       "</table>\n",
       "</div>"
      ],
      "text/plain": [
       "        Id  PoolArea PoolQC\n",
       "960   2421       368   None\n",
       "1043  2504       444   None\n",
       "1139  2600       561   None"
      ]
     },
     "execution_count": 18,
     "metadata": {},
     "output_type": "execute_result"
    }
   ],
   "source": [
    "# Now let's check if there are pools that have no quality\n",
    "all_data[(all_data['PoolQC'] == 'None') & (all_data['PoolArea'] > 0 )][['Id', 'PoolArea', 'PoolQC']]\n",
    "# There are 3 houses !"
   ]
  },
  {
   "cell_type": "code",
   "execution_count": 19,
   "id": "7bf2cb8a",
   "metadata": {
    "execution": {
     "iopub.execute_input": "2021-11-26T14:19:01.866209Z",
     "iopub.status.busy": "2021-11-26T14:19:01.865551Z",
     "iopub.status.idle": "2021-11-26T14:19:01.878272Z",
     "shell.execute_reply": "2021-11-26T14:19:01.878813Z",
     "shell.execute_reply.started": "2021-11-26T14:11:31.945404Z"
    },
    "papermill": {
     "duration": 0.056499,
     "end_time": "2021-11-26T14:19:01.878982",
     "exception": false,
     "start_time": "2021-11-26T14:19:01.822483",
     "status": "completed"
    },
    "tags": []
   },
   "outputs": [
    {
     "data": {
      "text/html": [
       "<div>\n",
       "<style scoped>\n",
       "    .dataframe tbody tr th:only-of-type {\n",
       "        vertical-align: middle;\n",
       "    }\n",
       "\n",
       "    .dataframe tbody tr th {\n",
       "        vertical-align: top;\n",
       "    }\n",
       "\n",
       "    .dataframe thead th {\n",
       "        text-align: right;\n",
       "    }\n",
       "</style>\n",
       "<table border=\"1\" class=\"dataframe\">\n",
       "  <thead>\n",
       "    <tr style=\"text-align: right;\">\n",
       "      <th></th>\n",
       "      <th>Id</th>\n",
       "      <th>PoolArea</th>\n",
       "      <th>PoolQC</th>\n",
       "      <th>OverallQual</th>\n",
       "    </tr>\n",
       "  </thead>\n",
       "  <tbody>\n",
       "    <tr>\n",
       "      <th>960</th>\n",
       "      <td>2421</td>\n",
       "      <td>368</td>\n",
       "      <td>None</td>\n",
       "      <td>4</td>\n",
       "    </tr>\n",
       "    <tr>\n",
       "      <th>1043</th>\n",
       "      <td>2504</td>\n",
       "      <td>444</td>\n",
       "      <td>None</td>\n",
       "      <td>6</td>\n",
       "    </tr>\n",
       "    <tr>\n",
       "      <th>1139</th>\n",
       "      <td>2600</td>\n",
       "      <td>561</td>\n",
       "      <td>None</td>\n",
       "      <td>3</td>\n",
       "    </tr>\n",
       "  </tbody>\n",
       "</table>\n",
       "</div>"
      ],
      "text/plain": [
       "        Id  PoolArea PoolQC  OverallQual\n",
       "960   2421       368   None            4\n",
       "1043  2504       444   None            6\n",
       "1139  2600       561   None            3"
      ]
     },
     "execution_count": 19,
     "metadata": {},
     "output_type": "execute_result"
    }
   ],
   "source": [
    "# A nice idea by ERIK BRUIN is to infer the quality of pool from the overall quality of the whole house\n",
    "all_data[(all_data['PoolQC'] == 'None') & (all_data['PoolArea'] > 0 )][['Id', 'PoolArea', 'PoolQC', 'OverallQual']]"
   ]
  },
  {
   "cell_type": "code",
   "execution_count": 20,
   "id": "aa8917e8",
   "metadata": {
    "execution": {
     "iopub.execute_input": "2021-11-26T14:19:01.959409Z",
     "iopub.status.busy": "2021-11-26T14:19:01.958546Z",
     "iopub.status.idle": "2021-11-26T14:19:01.968741Z",
     "shell.execute_reply": "2021-11-26T14:19:01.969243Z",
     "shell.execute_reply.started": "2021-11-26T14:11:31.961453Z"
    },
    "papermill": {
     "duration": 0.051916,
     "end_time": "2021-11-26T14:19:01.969426",
     "exception": false,
     "start_time": "2021-11-26T14:19:01.917510",
     "status": "completed"
    },
    "tags": []
   },
   "outputs": [],
   "source": [
    "# Assign the quality of pool to the mean of overall quality (overall quality scale is twice of the pool quality scale)\n",
    "all_data.loc[all_data['Id'] == 2421, 'PoolQC'] = 'Fa'\n",
    "all_data.loc[all_data['Id'] == 2504, 'PoolQC'] = 'TA'\n",
    "all_data.loc[all_data['Id'] == 2600, 'PoolQC'] = 'Fa'\n",
    "\n",
    "all_data[all_data['Id'].isin([2421,2504,2600])][['Id', 'PoolArea', 'PoolQC', 'OverallQual']]\n",
    "\n",
    "# PoolQC will be ordinal encoded\n",
    "ordinal_features.append('PoolQc')"
   ]
  },
  {
   "cell_type": "code",
   "execution_count": 21,
   "id": "03f7be4e",
   "metadata": {
    "execution": {
     "iopub.execute_input": "2021-11-26T14:19:02.060216Z",
     "iopub.status.busy": "2021-11-26T14:19:02.059533Z",
     "iopub.status.idle": "2021-11-26T14:19:02.069558Z",
     "shell.execute_reply": "2021-11-26T14:19:02.070125Z",
     "shell.execute_reply.started": "2021-11-26T14:11:31.980095Z"
    },
    "papermill": {
     "duration": 0.06049,
     "end_time": "2021-11-26T14:19:02.070320",
     "exception": false,
     "start_time": "2021-11-26T14:19:02.009830",
     "status": "completed"
    },
    "tags": []
   },
   "outputs": [
    {
     "name": "stdout",
     "output_type": "stream",
     "text": [
      "MiscFeature after filling missing values\n"
     ]
    }
   ],
   "source": [
    "# Misc Features\n",
    "# From the data description we know that Misc is categorical where NA means no extra features\n",
    "# So we can assign value None instead\n",
    "all_data['MiscFeature'] = all_data['MiscFeature'].fillna('None')\n",
    "print(\"MiscFeature after filling missing values\")\n",
    "all_data[['MiscFeature']].value_counts()\n",
    "\n",
    "# MiscFeature will be one hot encoded\n",
    "nominal_features.append('MiscFeature')"
   ]
  },
  {
   "cell_type": "code",
   "execution_count": 22,
   "id": "f76ea47a",
   "metadata": {
    "execution": {
     "iopub.execute_input": "2021-11-26T14:19:02.156377Z",
     "iopub.status.busy": "2021-11-26T14:19:02.155696Z",
     "iopub.status.idle": "2021-11-26T14:19:02.160265Z",
     "shell.execute_reply": "2021-11-26T14:19:02.159681Z",
     "shell.execute_reply.started": "2021-11-26T14:11:32.001257Z"
    },
    "papermill": {
     "duration": 0.051213,
     "end_time": "2021-11-26T14:19:02.160408",
     "exception": false,
     "start_time": "2021-11-26T14:19:02.109195",
     "status": "completed"
    },
    "tags": []
   },
   "outputs": [
    {
     "name": "stdout",
     "output_type": "stream",
     "text": [
      "Alley after filling missing values\n"
     ]
    }
   ],
   "source": [
    "# Alley\n",
    "# From the data description we know that Alley is categorical where NA means no alley access\n",
    "# So we cann assign value None instead\n",
    "all_data['Alley'] = all_data['Alley'].fillna('None')\n",
    "print('Alley after filling missing values')\n",
    "all_data['Alley'].value_counts()\n",
    "\n",
    "# Alley will be one hot encoded\n",
    "nominal_features.append('Alley')"
   ]
  },
  {
   "cell_type": "code",
   "execution_count": 23,
   "id": "83bb2088",
   "metadata": {
    "execution": {
     "iopub.execute_input": "2021-11-26T14:19:02.247777Z",
     "iopub.status.busy": "2021-11-26T14:19:02.247079Z",
     "iopub.status.idle": "2021-11-26T14:19:02.250522Z",
     "shell.execute_reply": "2021-11-26T14:19:02.249887Z",
     "shell.execute_reply.started": "2021-11-26T14:11:32.019938Z"
    },
    "papermill": {
     "duration": 0.050447,
     "end_time": "2021-11-26T14:19:02.250658",
     "exception": false,
     "start_time": "2021-11-26T14:19:02.200211",
     "status": "completed"
    },
    "tags": []
   },
   "outputs": [
    {
     "name": "stdout",
     "output_type": "stream",
     "text": [
      "Fence after filling missing values\n"
     ]
    }
   ],
   "source": [
    "# Fence\n",
    "# From the data description we know that Fence is categorical where NA means no Fence\n",
    "# So we cann assign value None instead\n",
    "all_data['Fence'] = all_data['Fence'].fillna('None')\n",
    "print('Fence after filling missing values')\n",
    "all_data['Fence'].value_counts()\n",
    "\n",
    "# Fence will be one hot encoded\n",
    "nominal_features.append('Fence')"
   ]
  },
  {
   "cell_type": "code",
   "execution_count": 24,
   "id": "05fc0632",
   "metadata": {
    "execution": {
     "iopub.execute_input": "2021-11-26T14:19:02.340609Z",
     "iopub.status.busy": "2021-11-26T14:19:02.339935Z",
     "iopub.status.idle": "2021-11-26T14:19:02.344697Z",
     "shell.execute_reply": "2021-11-26T14:19:02.344123Z",
     "shell.execute_reply.started": "2021-11-26T14:11:32.036796Z"
    },
    "papermill": {
     "duration": 0.054007,
     "end_time": "2021-11-26T14:19:02.344842",
     "exception": false,
     "start_time": "2021-11-26T14:19:02.290835",
     "status": "completed"
    },
    "tags": []
   },
   "outputs": [
    {
     "name": "stdout",
     "output_type": "stream",
     "text": [
      "FireplaceQu after filling missing values\n"
     ]
    },
    {
     "data": {
      "text/plain": [
       "None    1420\n",
       "Gd       744\n",
       "TA       592\n",
       "Fa        74\n",
       "Po        46\n",
       "Ex        43\n",
       "Name: FireplaceQu, dtype: int64"
      ]
     },
     "execution_count": 24,
     "metadata": {},
     "output_type": "execute_result"
    }
   ],
   "source": [
    "# FirePlace Quality\n",
    "# From the data description we know that FirePlace Quality is categorical where NA means no Fire Place\n",
    "# So we cann assign value None instead\n",
    "all_data['FireplaceQu'] = all_data['FireplaceQu'].fillna('None')\n",
    "print('FireplaceQu after filling missing values')\n",
    "all_data['FireplaceQu'].value_counts()"
   ]
  },
  {
   "cell_type": "code",
   "execution_count": 25,
   "id": "ba9e48f2",
   "metadata": {
    "execution": {
     "iopub.execute_input": "2021-11-26T14:19:02.434674Z",
     "iopub.status.busy": "2021-11-26T14:19:02.433991Z",
     "iopub.status.idle": "2021-11-26T14:19:02.436801Z",
     "shell.execute_reply": "2021-11-26T14:19:02.436303Z",
     "shell.execute_reply.started": "2021-11-26T14:11:32.052405Z"
    },
    "papermill": {
     "duration": 0.0505,
     "end_time": "2021-11-26T14:19:02.436942",
     "exception": false,
     "start_time": "2021-11-26T14:19:02.386442",
     "status": "completed"
    },
    "tags": []
   },
   "outputs": [],
   "source": [
    "# Now let's check if there are Fireplaces that have no quality\n",
    "all_data[(all_data['FireplaceQu'] == 'None') & (all_data['Fireplaces'] > 0)][['Id', 'Fireplaces', 'FireplaceQu']]\n",
    "# There are none ! Everything looks good\n",
    "\n",
    "# FireplaceQu will be ordinal encoded\n",
    "ordinal_features.append('FireplaceQu')"
   ]
  },
  {
   "cell_type": "code",
   "execution_count": 26,
   "id": "c1fccd0f",
   "metadata": {
    "execution": {
     "iopub.execute_input": "2021-11-26T14:19:02.526397Z",
     "iopub.status.busy": "2021-11-26T14:19:02.525706Z",
     "iopub.status.idle": "2021-11-26T14:19:02.532932Z",
     "shell.execute_reply": "2021-11-26T14:19:02.532390Z",
     "shell.execute_reply.started": "2021-11-26T14:11:32.070600Z"
    },
    "papermill": {
     "duration": 0.053825,
     "end_time": "2021-11-26T14:19:02.533069",
     "exception": false,
     "start_time": "2021-11-26T14:19:02.479244",
     "status": "completed"
    },
    "tags": []
   },
   "outputs": [
    {
     "name": "stdout",
     "output_type": "stream",
     "text": [
      "True\n"
     ]
    }
   ],
   "source": [
    "# LotFrontage\n",
    "# We know from the description that LotFrontage is numerical where NA is a missing value\n",
    "# Another nice idea by ERIK BRUIN is to infer the LotFrontage from the values of the neighborhood\n",
    "# But first let's check that all the neighborhoods have at least one value\n",
    "print (all_data['Neighborhood'].nunique() == all_data[all_data['LotFrontage'].notna()]['Neighborhood'].nunique())"
   ]
  },
  {
   "cell_type": "code",
   "execution_count": 27,
   "id": "e934a047",
   "metadata": {
    "execution": {
     "iopub.execute_input": "2021-11-26T14:19:02.623462Z",
     "iopub.status.busy": "2021-11-26T14:19:02.622592Z",
     "iopub.status.idle": "2021-11-26T14:19:02.635754Z",
     "shell.execute_reply": "2021-11-26T14:19:02.635168Z",
     "shell.execute_reply.started": "2021-11-26T14:11:32.089256Z"
    },
    "papermill": {
     "duration": 0.060308,
     "end_time": "2021-11-26T14:19:02.635895",
     "exception": false,
     "start_time": "2021-11-26T14:19:02.575587",
     "status": "completed"
    },
    "tags": []
   },
   "outputs": [],
   "source": [
    "# Yes looks great! Now, let's assign the median value of LotFrontage from the same neighborhood\n",
    "all_data['LotFrontage'] = all_data.groupby('Neighborhood')['LotFrontage'].transform(lambda x: x.fillna(x.median()))"
   ]
  },
  {
   "cell_type": "code",
   "execution_count": 28,
   "id": "0f8c543a",
   "metadata": {
    "execution": {
     "iopub.execute_input": "2021-11-26T14:19:02.730207Z",
     "iopub.status.busy": "2021-11-26T14:19:02.729393Z",
     "iopub.status.idle": "2021-11-26T14:19:02.732573Z",
     "shell.execute_reply": "2021-11-26T14:19:02.733108Z",
     "shell.execute_reply.started": "2021-11-26T14:11:32.110069Z"
    },
    "papermill": {
     "duration": 0.052882,
     "end_time": "2021-11-26T14:19:02.733307",
     "exception": false,
     "start_time": "2021-11-26T14:19:02.680425",
     "status": "completed"
    },
    "tags": []
   },
   "outputs": [
    {
     "name": "stdout",
     "output_type": "stream",
     "text": [
      "['Reg' 'IR1' 'IR2' 'IR3']\n",
      "['Inside' 'FR2' 'Corner' 'CulDSac' 'FR3']\n"
     ]
    }
   ],
   "source": [
    "# Let's also have a look on other Lot features (LotShape, LotConfig)\n",
    "\n",
    "# LotShape\n",
    "# from the descriptions it looks like an ordinal feature\n",
    "print(all_data['LotShape'].unique()) #  Add values to ordinal encoder\n",
    "ordinal_features.append('LotShape')\n",
    "\n",
    "#LotConfig\n",
    "print(all_data['LotConfig'].unique())\n",
    "# Doesn't seem like an ordinal feature, so will consider as nominal\n",
    "nominal_features.append('LotConfig')"
   ]
  },
  {
   "cell_type": "code",
   "execution_count": 29,
   "id": "3a8234cb",
   "metadata": {
    "execution": {
     "iopub.execute_input": "2021-11-26T14:19:02.821475Z",
     "iopub.status.busy": "2021-11-26T14:19:02.820809Z",
     "iopub.status.idle": "2021-11-26T14:19:02.827916Z",
     "shell.execute_reply": "2021-11-26T14:19:02.828544Z",
     "shell.execute_reply.started": "2021-11-26T14:11:32.118550Z"
    },
    "papermill": {
     "duration": 0.054799,
     "end_time": "2021-11-26T14:19:02.828712",
     "exception": false,
     "start_time": "2021-11-26T14:19:02.773913",
     "status": "completed"
    },
    "tags": []
   },
   "outputs": [
    {
     "data": {
      "text/plain": [
       "(157, 81)"
      ]
     },
     "execution_count": 29,
     "metadata": {},
     "output_type": "execute_result"
    }
   ],
   "source": [
    "# Garage\n",
    "# There are multple Garage variables with missing values\n",
    "# GarageCond       159\n",
    "# GarageYrBlt      159\n",
    "# GarageFinish     159\n",
    "# GarageQual       159\n",
    "# GarageType       157\n",
    "# In addition to 2 variables with 1 missing data\n",
    "# GarageCars       1\n",
    "# GarageArea       1\n",
    "\n",
    "# First let's check if the nulls happen for the same records\n",
    "all_data[(all_data['GarageCond'].isna()) & (all_data['GarageYrBlt'].isna()) & (all_data['GarageFinish'].isna()) & (all_data['GarageQual'].isna()) & (all_data['GarageType'].isna())].shape\n",
    "# So 157 out of 159 are common"
   ]
  },
  {
   "cell_type": "code",
   "execution_count": 30,
   "id": "38f847c6",
   "metadata": {
    "execution": {
     "iopub.execute_input": "2021-11-26T14:19:02.915036Z",
     "iopub.status.busy": "2021-11-26T14:19:02.914399Z",
     "iopub.status.idle": "2021-11-26T14:19:02.932234Z",
     "shell.execute_reply": "2021-11-26T14:19:02.931569Z",
     "shell.execute_reply.started": "2021-11-26T14:11:32.137818Z"
    },
    "papermill": {
     "duration": 0.061809,
     "end_time": "2021-11-26T14:19:02.932373",
     "exception": false,
     "start_time": "2021-11-26T14:19:02.870564",
     "status": "completed"
    },
    "tags": []
   },
   "outputs": [
    {
     "data": {
      "text/html": [
       "<div>\n",
       "<style scoped>\n",
       "    .dataframe tbody tr th:only-of-type {\n",
       "        vertical-align: middle;\n",
       "    }\n",
       "\n",
       "    .dataframe tbody tr th {\n",
       "        vertical-align: top;\n",
       "    }\n",
       "\n",
       "    .dataframe thead th {\n",
       "        text-align: right;\n",
       "    }\n",
       "</style>\n",
       "<table border=\"1\" class=\"dataframe\">\n",
       "  <thead>\n",
       "    <tr style=\"text-align: right;\">\n",
       "      <th></th>\n",
       "      <th>Id</th>\n",
       "      <th>GarageCond</th>\n",
       "      <th>GarageYrBlt</th>\n",
       "      <th>GarageFinish</th>\n",
       "      <th>GarageQual</th>\n",
       "      <th>GarageType</th>\n",
       "      <th>GarageCars</th>\n",
       "      <th>GarageArea</th>\n",
       "      <th>YearBuilt</th>\n",
       "    </tr>\n",
       "  </thead>\n",
       "  <tbody>\n",
       "    <tr>\n",
       "      <th>666</th>\n",
       "      <td>2127</td>\n",
       "      <td>NaN</td>\n",
       "      <td>NaN</td>\n",
       "      <td>NaN</td>\n",
       "      <td>NaN</td>\n",
       "      <td>Detchd</td>\n",
       "      <td>1.0</td>\n",
       "      <td>360.0</td>\n",
       "      <td>1910</td>\n",
       "    </tr>\n",
       "    <tr>\n",
       "      <th>1116</th>\n",
       "      <td>2577</td>\n",
       "      <td>NaN</td>\n",
       "      <td>NaN</td>\n",
       "      <td>NaN</td>\n",
       "      <td>NaN</td>\n",
       "      <td>Detchd</td>\n",
       "      <td>NaN</td>\n",
       "      <td>NaN</td>\n",
       "      <td>1923</td>\n",
       "    </tr>\n",
       "  </tbody>\n",
       "</table>\n",
       "</div>"
      ],
      "text/plain": [
       "        Id GarageCond  GarageYrBlt GarageFinish GarageQual GarageType  \\\n",
       "666   2127        NaN          NaN          NaN        NaN     Detchd   \n",
       "1116  2577        NaN          NaN          NaN        NaN     Detchd   \n",
       "\n",
       "      GarageCars  GarageArea  YearBuilt  \n",
       "666          1.0       360.0       1910  \n",
       "1116         NaN         NaN       1923  "
      ]
     },
     "execution_count": 30,
     "metadata": {},
     "output_type": "execute_result"
    }
   ],
   "source": [
    "# Now let's see the 2 cases where the difference happens\n",
    "all_data[(all_data['GarageType'].notnull()) & (all_data['GarageCond'].isna())][['Id','GarageCond','GarageYrBlt','GarageFinish','GarageQual','GarageType','GarageCars','GarageArea', 'YearBuilt']]\n",
    "\n",
    "# House 2127 looks like it has a garage (figure out how to fill the values)\n",
    "# House 2577 looks like it doesn't have a garage (adjust values to reflect no garage)"
   ]
  },
  {
   "cell_type": "code",
   "execution_count": 31,
   "id": "e788ea4f",
   "metadata": {
    "execution": {
     "iopub.execute_input": "2021-11-26T14:19:03.027929Z",
     "iopub.status.busy": "2021-11-26T14:19:03.025040Z",
     "iopub.status.idle": "2021-11-26T14:19:03.031222Z",
     "shell.execute_reply": "2021-11-26T14:19:03.031691Z",
     "shell.execute_reply.started": "2021-11-26T14:11:32.163939Z"
    },
    "papermill": {
     "duration": 0.056822,
     "end_time": "2021-11-26T14:19:03.031863",
     "exception": false,
     "start_time": "2021-11-26T14:19:02.975041",
     "status": "completed"
    },
    "tags": []
   },
   "outputs": [
    {
     "data": {
      "text/plain": [
       "'GarageArea'"
      ]
     },
     "execution_count": 31,
     "metadata": {},
     "output_type": "execute_result"
    }
   ],
   "source": [
    "# For house 2127, I will consider the GarageYrBlt equal to YearBuilt (1910)\n",
    "# I will check the most common properties of Garages for houses built at that year\n",
    "all_data[all_data['YearBuilt'] == 1910].groupby(['GarageCond','GarageYrBlt','GarageFinish','GarageQual']).size().sort_values(ascending=False)\n",
    "\n",
    "'GarageCond',\n",
    "'GarageYrBlt',\n",
    "'GarageFinish',\n",
    "'GarageQual',\n",
    "'GarageType',\n",
    "'GarageCars'\n",
    "'GarageArea'"
   ]
  },
  {
   "cell_type": "code",
   "execution_count": 32,
   "id": "e762625f",
   "metadata": {
    "execution": {
     "iopub.execute_input": "2021-11-26T14:19:03.122758Z",
     "iopub.status.busy": "2021-11-26T14:19:03.122080Z",
     "iopub.status.idle": "2021-11-26T14:19:03.124025Z",
     "shell.execute_reply": "2021-11-26T14:19:03.124495Z",
     "shell.execute_reply.started": "2021-11-26T14:11:32.181376Z"
    },
    "papermill": {
     "duration": 0.049202,
     "end_time": "2021-11-26T14:19:03.124662",
     "exception": false,
     "start_time": "2021-11-26T14:19:03.075460",
     "status": "completed"
    },
    "tags": []
   },
   "outputs": [],
   "source": [
    "# GarageCond\n",
    "# from the descriptions it is an ordinal feature"
   ]
  }
 ],
 "metadata": {
  "kernelspec": {
   "display_name": "Python 3",
   "language": "python",
   "name": "python3"
  },
  "language_info": {
   "codemirror_mode": {
    "name": "ipython",
    "version": 3
   },
   "file_extension": ".py",
   "mimetype": "text/x-python",
   "name": "python",
   "nbconvert_exporter": "python",
   "pygments_lexer": "ipython3",
   "version": "3.7.10"
  },
  "papermill": {
   "default_parameters": {},
   "duration": 17.160302,
   "end_time": "2021-11-26T14:19:03.879097",
   "environment_variables": {},
   "exception": null,
   "input_path": "__notebook__.ipynb",
   "output_path": "__notebook__.ipynb",
   "parameters": {},
   "start_time": "2021-11-26T14:18:46.718795",
   "version": "2.3.3"
  }
 },
 "nbformat": 4,
 "nbformat_minor": 5
}
